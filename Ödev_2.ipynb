{
 "cells": [
  {
   "cell_type": "markdown",
   "metadata": {},
   "source": [
    "# Python Alıştırmalar"
   ]
  },
  {
   "cell_type": "markdown",
   "metadata": {},
   "source": [
    "### Görev 1 Verilen değerlerin veri yapılarını inceleyiniz."
   ]
  },
  {
   "cell_type": "markdown",
   "metadata": {},
   "source": [
    "Pythonda veri yapılarını incelemek için type() fonskiyonu kullanılır.\n",
    "Temelde integer, float, karmaşık sayılar (komplex sayılar), string, boolean, liste, sözlük, set ve tuple veri tipleri vardır. "
   ]
  },
  {
   "cell_type": "code",
   "execution_count": 2,
   "metadata": {},
   "outputs": [],
   "source": [
    "x=8\n",
    "y=3.2\n",
    "z=8j+18\n",
    "a=\"Hello World\"\n",
    "b=True\n",
    "c=23<22\n",
    "l=[1,2,3,4]\n",
    "d={\"Name\":\"Jake\",\n",
    "    \"Age\":27,\n",
    "    \"Adress\":\"Downtown\"}\n",
    "t=(\"Machine Learning\", \"Data Science\")\n",
    "s={\"Python\",\"Machine Learning\", \"Data Science\"}\n"
   ]
  },
  {
   "cell_type": "code",
   "execution_count": 4,
   "metadata": {},
   "outputs": [],
   "source": [
    "def type_of_variables():\n",
    "    print(\"Type of x is: \", type(x))\n",
    "    print(\"Type of y is: \", type(y))\n",
    "    print(\"Type of z is: \", type(z))\n",
    "    print(\"Type of a is: \", type(a))\n",
    "    print(\"Type of b is: \", type(b))\n",
    "    print(\"Type of c is: \", type(c))\n",
    "    print(\"Type of l is: \", type(l))\n",
    "    print(\"Type of d is: \", type(d))\n",
    "    print(\"Type of t is: \", type(t))\n",
    "    print(\"Type of s is: \", type(s))"
   ]
  },
  {
   "cell_type": "code",
   "execution_count": 5,
   "metadata": {},
   "outputs": [
    {
     "name": "stdout",
     "output_type": "stream",
     "text": [
      "Type of x is:  <class 'int'>\n",
      "Type of y is:  <class 'float'>\n",
      "Type of z is:  <class 'complex'>\n",
      "Type of a is:  <class 'str'>\n",
      "Type of b is:  <class 'bool'>\n",
      "Type of c is:  <class 'bool'>\n",
      "Type of l is:  <class 'list'>\n",
      "Type of d is:  <class 'dict'>\n",
      "Type of t is:  <class 'tuple'>\n",
      "Type of s is:  <class 'set'>\n"
     ]
    }
   ],
   "source": [
    "type_of_variables()"
   ]
  },
  {
   "cell_type": "markdown",
   "metadata": {},
   "source": [
    "### Görev 2: Verilen string ifadenin tüm harflerini büyük harfe çeviriniz Virgül ve nokta yerine space koyunuz. <br>\n",
    "\n",
    "text=\"The goal is to turn data into information, and information into insight\" <br>\n",
    "\n",
    "Beklenen çıktı: <br>\n",
    "\n",
    "[\"THE’,’GOAL’,’IS’,’TO’,’TURN’,’DATA’,’INTO’,’INFORMATION’,’’,’AND’,’INFORMATION’,’INTO’,’INSIGHT\"]\n"
   ]
  },
  {
   "cell_type": "markdown",
   "metadata": {},
   "source": [
    "String metodları kullanılarak işlem gerçekleştirilebilir.<br>\n",
    "\n",
    "* büyük harfe çevirmek için _**upper()**_ \n",
    "* harfleri değiştirmek için _**replace(\"eski değer\",\"yeni değer\")**_\n",
    "* ve son olarak her bir kelimeyi liste elemanı yapmak için _**string_adı.split()**_ <br>\n",
    "fonksiyonları kullanlır"
   ]
  },
  {
   "cell_type": "markdown",
   "metadata": {},
   "source": [
    "Bu görevde boşluk yerine virgül konulacak ve text ayrılacak. \n"
   ]
  },
  {
   "cell_type": "code",
   "execution_count": 12,
   "metadata": {},
   "outputs": [
    {
     "data": {
      "text/plain": [
       "'THE GOAL IS TO TURN DATA INTO INFORMATION, AND INFORMATION INTO INSIGHT'"
      ]
     },
     "execution_count": 12,
     "metadata": {},
     "output_type": "execute_result"
    }
   ],
   "source": [
    "text=\"The goal is to turn data into information, and information into insight\"\n",
    "text = text.upper()\n",
    "text"
   ]
  },
  {
   "cell_type": "code",
   "execution_count": null,
   "metadata": {},
   "outputs": [
    {
     "data": {
      "text/plain": [
       "'THE GOAL IS TO TURN DATA INTO INFORMATION, AND INFORMATION INTO INSIGHT'"
      ]
     },
     "execution_count": 13,
     "metadata": {},
     "output_type": "execute_result"
    }
   ],
   "source": [
    "text= text.replace(\",\", \" \")\n",
    "text"
   ]
  },
  {
   "cell_type": "code",
   "execution_count": 14,
   "metadata": {},
   "outputs": [
    {
     "name": "stdout",
     "output_type": "stream",
     "text": [
      "['THE', 'GOAL', 'IS', 'TO', 'TURN', 'DATA', 'INTO', 'INFORMATION,', 'AND', 'INFORMATION', 'INTO', 'INSIGHT']\n"
     ]
    }
   ],
   "source": [
    "result = text.split()\n",
    "print(result)\n"
   ]
  },
  {
   "cell_type": "markdown",
   "metadata": {},
   "source": [
    "### Görev 3: Verilen listeye aşağıdaki adımları uygulayınız.<br>\n",
    "\n",
    "\n",
    "lst = [\"D\",\"A\",\"T\",\"A\",\"S\",\"C\",\"I\",\"E\",\"N\",\"C\",\"E\"]\n",
    "\n",
    "Adım 1: Verilen listenin eleman sayısına bakınız.<br>\n",
    "\n",
    "Adım 2: Sıfırıncı ve onuncu İndeksteki elemanları çağırınız.<br>\n",
    "\n",
    "Adım 3: Verilen liste üzerinden [\"D\", \"A\", \"T\", \"A\"] listesi oluşturunuz. <br>\n",
    "\n",
    "Adım 4: Sekizinci indeksteki elemanı siliniz.<br>\n",
    "\n",
    "Adım 5: Yeni bir eleman ekleyiniz.<br>\n",
    "\n",
    "Adım 6: Sekizinci İndekse \"N\" elemanını tekrar ekleyiniz.<br>\n",
    "\n"
   ]
  },
  {
   "cell_type": "markdown",
   "metadata": {},
   "source": [
    "Eleman sayısına bakmak için _**len()**_ fonksiyonu kullanılır."
   ]
  },
  {
   "cell_type": "code",
   "execution_count": 15,
   "metadata": {},
   "outputs": [
    {
     "data": {
      "text/plain": [
       "11"
      ]
     },
     "execution_count": 15,
     "metadata": {},
     "output_type": "execute_result"
    }
   ],
   "source": [
    "lst = [\"D\",\"A\",\"T\",\"A\",\"S\",\"C\",\"I\",\"E\",\"N\",\"C\",\"E\"]\n",
    "\n",
    "len(lst)"
   ]
  },
  {
   "cell_type": "markdown",
   "metadata": {},
   "source": [
    "Sıfırıncı ve 10 uncu indeksteki elemanları çağırmak için _**print([liste_adı[indeks sayısı]])**_ işlemi yapılır. Bu adımda ikitane istendiği için araya virgül koyarak çağırılacak."
   ]
  },
  {
   "cell_type": "code",
   "execution_count": 16,
   "metadata": {},
   "outputs": [
    {
     "name": "stdout",
     "output_type": "stream",
     "text": [
      "D E\n"
     ]
    }
   ],
   "source": [
    "print(lst[0],lst[10])"
   ]
  },
  {
   "cell_type": "markdown",
   "metadata": {},
   "source": [
    "Sıfırıncı elemandan dördüncü elemana kadar bir liste oluşturmak için indeks aralığı ile bu elemanlara ulaşılıp bir yeni bir variable ataması yapılır. "
   ]
  },
  {
   "cell_type": "code",
   "execution_count": 17,
   "metadata": {},
   "outputs": [
    {
     "data": {
      "text/plain": [
       "['D', 'A', 'T', 'A']"
      ]
     },
     "execution_count": 17,
     "metadata": {},
     "output_type": "execute_result"
    }
   ],
   "source": [
    "lst[:4]"
   ]
  },
  {
   "cell_type": "code",
   "execution_count": 18,
   "metadata": {},
   "outputs": [
    {
     "data": {
      "text/plain": [
       "['D', 'A', 'T', 'A']"
      ]
     },
     "execution_count": 18,
     "metadata": {},
     "output_type": "execute_result"
    }
   ],
   "source": [
    "new_lst=lst[:4]\n",
    "new_lst"
   ]
  },
  {
   "cell_type": "markdown",
   "metadata": {},
   "source": [
    "Listeden eleman silmek için _**pop**_ methodu veya del fonksiyonu kullanılır. "
   ]
  },
  {
   "cell_type": "code",
   "execution_count": 19,
   "metadata": {},
   "outputs": [
    {
     "data": {
      "text/plain": [
       "['D', 'A', 'T', 'A', 'S', 'C', 'I', 'E', 'C', 'E']"
      ]
     },
     "execution_count": 19,
     "metadata": {},
     "output_type": "execute_result"
    }
   ],
   "source": [
    "lst.pop(8)\n",
    "lst"
   ]
  },
  {
   "cell_type": "markdown",
   "metadata": {},
   "source": [
    "Listeye eleman eklemek için _**append(\"yeni liste elemanı\")**_ yöntemi kullanılır. "
   ]
  },
  {
   "cell_type": "code",
   "execution_count": 20,
   "metadata": {},
   "outputs": [
    {
     "data": {
      "text/plain": [
       "['D', 'A', 'T', 'A', 'S', 'C', 'I', 'E', 'C', 'E', 'x']"
      ]
     },
     "execution_count": 20,
     "metadata": {},
     "output_type": "execute_result"
    }
   ],
   "source": [
    "lst.append(\"x\")\n",
    "lst"
   ]
  },
  {
   "cell_type": "markdown",
   "metadata": {},
   "source": [
    "Belirli bir indeks sayısına eleman eklemek için _**insert(indeks sayısı,\"liste elemanı\")**_ yöntemi kullanılır. \n"
   ]
  },
  {
   "cell_type": "code",
   "execution_count": 21,
   "metadata": {},
   "outputs": [
    {
     "data": {
      "text/plain": [
       "['D', 'A', 'T', 'A', 'S', 'C', 'I', 'E', 'N', 'C', 'E', 'x']"
      ]
     },
     "execution_count": 21,
     "metadata": {},
     "output_type": "execute_result"
    }
   ],
   "source": [
    "lst.insert(8,\"N\")\n",
    "lst"
   ]
  },
  {
   "cell_type": "markdown",
   "metadata": {},
   "source": [
    "### Görev 4-: Verilen sözlük yapısına aşağıdaki adımları uygulayınız.<br>\n",
    "\n",
    "dict = {'Christian': [\"America\",18], <br>\n",
    "'Daisy':[\"England\",12], <br>\n",
    "'Antonio':[\"Spain\",22], 'Dante':[\"Italy\",25]} <br>\n",
    "\n",
    "Adım 1: Key değerlerine erişiniz.<br>\n",
    "\n",
    "Adım 2: Value'lara erişiniz.<br>\n",
    "\n",
    "Adım 3: Daisy key'ine ait 12 değerini 13 olarak güncelleyiniz.<br>\n",
    "\n",
    "Adım 4: Key değeri Ahmet value değeri [Turkey,24] olan yeni bir değer ekleyiniz.<br>\n",
    "\n",
    "Adım 5: Antonio'yu dictionary'den siliniz.<br>\n"
   ]
  },
  {
   "cell_type": "code",
   "execution_count": null,
   "metadata": {},
   "outputs": [],
   "source": [
    "my_dict = {'Christian': [\"America\",18],\n",
    "'Daisy':[\"England\",12],\n",
    "'Antonio':[\"Spain\",22], 'Dante':[\"Italy\",25]}"
   ]
  },
  {
   "cell_type": "code",
   "execution_count": null,
   "metadata": {},
   "outputs": [
    {
     "data": {
      "text/plain": [
       "dict_keys(['Christian', 'Daisy', 'Antonio', 'Dante'])"
      ]
     },
     "execution_count": 23,
     "metadata": {},
     "output_type": "execute_result"
    }
   ],
   "source": [
    "my_dict.keys()"
   ]
  },
  {
   "cell_type": "code",
   "execution_count": null,
   "metadata": {},
   "outputs": [
    {
     "data": {
      "text/plain": [
       "dict_values([['America', 18], ['England', 12], ['Spain', 22], ['Italy', 25]])"
      ]
     },
     "execution_count": 24,
     "metadata": {},
     "output_type": "execute_result"
    }
   ],
   "source": [
    "my_dict.values()"
   ]
  },
  {
   "cell_type": "code",
   "execution_count": null,
   "metadata": {},
   "outputs": [
    {
     "data": {
      "text/plain": [
       "{'Christian': ['America', 18],\n",
       " 'Daisy': ['England', 13],\n",
       " 'Antonio': ['Spain', 22],\n",
       " 'Dante': ['Italy', 25]}"
      ]
     },
     "execution_count": 25,
     "metadata": {},
     "output_type": "execute_result"
    }
   ],
   "source": [
    "my_dict[\"Daisy\"]=[\"England\", 13]\n",
    "my_dict"
   ]
  },
  {
   "cell_type": "code",
   "execution_count": null,
   "metadata": {},
   "outputs": [
    {
     "data": {
      "text/plain": [
       "{'Christian': ['America', 18],\n",
       " 'Daisy': ['England', 13],\n",
       " 'Antonio': ['Spain', 22],\n",
       " 'Dante': ['Italy', 25],\n",
       " 'Ahmet': ['Turkey', 24]}"
      ]
     },
     "execution_count": 26,
     "metadata": {},
     "output_type": "execute_result"
    }
   ],
   "source": [
    "my_dict[\"Ahmet\"]=[\"Turkey\",24]\n",
    "my_dict"
   ]
  },
  {
   "cell_type": "code",
   "execution_count": null,
   "metadata": {},
   "outputs": [
    {
     "data": {
      "text/plain": [
       "{'Christian': ['America', 18],\n",
       " 'Daisy': ['England', 13],\n",
       " 'Dante': ['Italy', 25],\n",
       " 'Ahmet': ['Turkey', 24]}"
      ]
     },
     "execution_count": 27,
     "metadata": {},
     "output_type": "execute_result"
    }
   ],
   "source": [
    "my_dict.pop(\"Antonio\")\n",
    "my_dict"
   ]
  },
  {
   "cell_type": "markdown",
   "metadata": {},
   "source": [
    "### Görev 5: Argüman olarak bir liste alan, listenin içerisindeki tek ve çift sayıları ayrı listelere atayan ve bu listeleri return eden fonksiyon yazınız."
   ]
  },
  {
   "cell_type": "code",
   "execution_count": null,
   "metadata": {},
   "outputs": [],
   "source": [
    "l=[2,13,18,93,22]\n",
    "\n",
    "\n",
    "def func(x:list):\n",
    "    even_list=[]\n",
    "    odd_list=[]\n",
    "    for i in x:\n",
    "        if i%2==0:\n",
    "            even_list.append(i)\n",
    "        else:\n",
    "            odd_list.append(i)\n",
    "    print(even_list,odd_list)\n"
   ]
  },
  {
   "cell_type": "code",
   "execution_count": 31,
   "metadata": {},
   "outputs": [
    {
     "name": "stdout",
     "output_type": "stream",
     "text": [
      "[2, 18, 22] [13, 93]\n"
     ]
    }
   ],
   "source": [
    "func(l)"
   ]
  },
  {
   "cell_type": "markdown",
   "metadata": {},
   "source": [
    "### Görev 6: Aşağıda verilen listede mühendislik ve tıp fakülterinde dereceye giren öğrencilerin isimleri bulunmaktadır. Sırasıyla İlk üç öğrenci mühendislik fakültesinin başarı sırasını temsil ederken son üç öğrenci de tıp fakültesi öğrenci sırasına aittir. Enumerate kullanarak öğrenci derecelerini fakülte özelinde yazdırınız."
   ]
  },
  {
   "cell_type": "markdown",
   "metadata": {},
   "source": [
    "\n",
    "\n",
    "\n",
    "Beklenen çıktı:<br>\n",
    "\n",
    "\n",
    "Mühendislik Fakültesi 1 . öğrenci: Ali <br>\n",
    "\n",
    "Mühendislik Fakültesi 2 . öğrenci: Veli<br>\n",
    "\n",
    "Mühendislik Fakültesi 3 . öğrenci: Ayşe <br>\n",
    "\n",
    "Tıp Fakültesi 1 . öğrenci: Talat <br>\n",
    "\n",
    "Tıp Fakültesi 2 . öğrenci: Zeynep <br>\n",
    "\n",
    "Tıp Fakültesi 3 . öğrenci: Ece <br>\n"
   ]
  },
  {
   "cell_type": "code",
   "execution_count": null,
   "metadata": {},
   "outputs": [
    {
     "name": "stdout",
     "output_type": "stream",
     "text": [
      "Mühendislik Fakültesi 1 . öğrenci: Ali\n",
      "Mühendislik Fakültesi 2 . öğrenci: Veli\n",
      "Mühendislik Fakültesi 3 . öğrenci: Ayşe\n",
      "Tıp Fakültesi 1 . öğrenci: Talat\n",
      "Tıp Fakültesi 2 . öğrenci: Zeynep\n",
      "Tıp Fakültesi 3 . öğrenci: Ece\n"
     ]
    }
   ],
   "source": [
    "öğrenciler = [\"Ali\",\"Veli\",\"Ayşe\",\"Talat\",\"Zeynep\",\"Ece\"]\n",
    "\n",
    "for i, öğrenci in enumerate(öğrenciler[:3], 1):\n",
    "    print(f\"Mühendislik Fakültesi {i} . öğrenci: {öğrenci}\")\n",
    "\n",
    "for i, öğrenci in enumerate(öğrenciler[3:], 1):\n",
    "    print(f\"Tıp Fakültesi {i} . öğrenci: {öğrenci}\")"
   ]
  },
  {
   "cell_type": "markdown",
   "metadata": {},
   "source": [
    "# Görev 7: Zip kullanarak ders bilgilerini bastırma"
   ]
  },
  {
   "cell_type": "code",
   "execution_count": null,
   "metadata": {},
   "outputs": [
    {
     "name": "stdout",
     "output_type": "stream",
     "text": [
      "Kredisi 3 olan CMP1005 kodlu dersin kontenjanı 30 kişidir.\n",
      "Kredisi 4 olan PSY1001 kodlu dersin kontenjanı 75 kişidir.\n",
      "Kredisi 2 olan HUK1005 kodlu dersin kontenjanı 150 kişidir.\n",
      "Kredisi 4 olan SEN2204 kodlu dersin kontenjanı 25 kişidir.\n"
     ]
    }
   ],
   "source": [
    "\n",
    "ders_kodu = [\"CMP1005\",\"PSY1001\",\"HUK1005\",\"SEN2204\"]\n",
    "kredi = [3,4,2,4]\n",
    "kontenjan = [30,75,150,25]\n",
    "\n",
    "for kod, krd, kont in zip(ders_kodu, kredi, kontenjan):\n",
    "    print(f\"Kredisi {krd} olan {kod} kodlu dersin kontenjanı {kont} kişidir.\")"
   ]
  },
  {
   "cell_type": "code",
   "execution_count": 51,
   "metadata": {},
   "outputs": [
    {
     "name": "stdout",
     "output_type": "stream",
     "text": [
      "{'miuul', 'qcut', 'function', 'lambda'}\n"
     ]
    }
   ],
   "source": [
    "# Görev 8: Küme kapsama kontrolü ve farkların yazdırılması\n",
    "def kume_kontrol(kume1, kume2):\n",
    "    if kume1.issuperset(kume2):\n",
    "        print(kume1.intersection(kume2))\n",
    "    else:\n",
    "        print(kume2.difference(kume1))\n",
    "\n",
    "kume1 = set([\"data\", \"python\"])\n",
    "kume2 = set([\"data\", \"function\", \"qcut\", \"lambda\", \"python\", \"miuul\"])\n",
    "\n",
    "kume_kontrol(kume1, kume2)"
   ]
  },
  {
   "cell_type": "markdown",
   "metadata": {},
   "source": []
  },
  {
   "cell_type": "markdown",
   "metadata": {},
   "source": []
  }
 ],
 "metadata": {
  "kernelspec": {
   "display_name": "base",
   "language": "python",
   "name": "python3"
  },
  "language_info": {
   "codemirror_mode": {
    "name": "ipython",
    "version": 3
   },
   "file_extension": ".py",
   "mimetype": "text/x-python",
   "name": "python",
   "nbconvert_exporter": "python",
   "pygments_lexer": "ipython3",
   "version": "3.12.7"
  }
 },
 "nbformat": 4,
 "nbformat_minor": 2
}
